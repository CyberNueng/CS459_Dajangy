{
 "cells": [
  {
   "cell_type": "code",
   "execution_count": 6,
   "metadata": {},
   "outputs": [
    {
     "name": "stdout",
     "output_type": "stream",
     "text": [
      "Customer id: 1\n",
      "Customer name: eiei jung\n",
      "Car rent: Toyota-Vios\n",
      "Date: 2018-03-07 09:49:00+00:00 - 2018-03-09 09:49:22+00:00\n",
      "Fee: 20000.00\n",
      "=====================\n",
      "Customer id: 1\n",
      "Customer name: eiei jung\n",
      "Car rent: Mazda3\n",
      "Date: 2018-02-09 10:19:22+00:00 - 2018-02-20 09:19:33+00:00\n",
      "Fee: 50000.00\n",
      "=====================\n"
     ]
    }
   ],
   "source": [
    "for i in Rent.objects.all():\n",
    "    if(i.customer.id==1):\n",
    "        print(\"Customer id: \" + str(i.customer.id))\n",
    "        print(\"Customer name: \" + i.customer.first_name +\" \"+ i.customer.last_name)\n",
    "        print(\"Car rent: \" + i.car.model)\n",
    "        print(\"Date: \" + str(i.start) + \" - \" + str(i.stop))\n",
    "        print(\"Fee: \" + str(i.fee))\n",
    "        print(\"=====================\")"
   ]
  },
  {
   "cell_type": "code",
   "execution_count": null,
   "metadata": {
    "collapsed": true
   },
   "outputs": [],
   "source": []
  }
 ],
 "metadata": {
  "kernelspec": {
   "display_name": "Django Shell-Plus",
   "language": "python",
   "name": "django_extensions"
  },
  "language_info": {
   "codemirror_mode": {
    "name": "ipython",
    "version": 3
   },
   "file_extension": ".py",
   "mimetype": "text/x-python",
   "name": "python",
   "nbconvert_exporter": "python",
   "pygments_lexer": "ipython3",
   "version": "3.6.3"
  }
 },
 "nbformat": 4,
 "nbformat_minor": 2
}
