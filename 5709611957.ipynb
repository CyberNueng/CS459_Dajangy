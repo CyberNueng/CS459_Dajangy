{
 "cells": [
  {
   "cell_type": "code",
   "execution_count": 61,
   "metadata": {
    "collapsed": true
   },
   "outputs": [],
   "source": [
    "import math\n",
    "import operator\n",
    "from django.db.models import F, ExpressionWrapper, fields\n",
    "from datetime import datetime, timedelta\n",
    "import pytz\n",
    "utc=pytz.timezone('UTC')"
   ]
  },
  {
   "cell_type": "markdown",
   "metadata": {},
   "source": [
    "# Q1"
   ]
  },
  {
   "cell_type": "code",
   "execution_count": 3,
   "metadata": {},
   "outputs": [
    {
     "name": "stdout",
     "output_type": "stream",
     "text": [
      "94 Oscar Smith 15116.00\n"
     ]
    }
   ],
   "source": [
    "m = Member.objects.annotate(total=Sum('rent__cost')).latest('total')\n",
    "print (m.id, m.name, m.total)"
   ]
  },
  {
   "cell_type": "markdown",
   "metadata": {},
   "source": [
    "# Q2"
   ]
  },
  {
   "cell_type": "code",
   "execution_count": 7,
   "metadata": {},
   "outputs": [
    {
     "name": "stdout",
     "output_type": "stream",
     "text": [
      "id: 10 number: 105 total: 269645.00\n"
     ]
    }
   ],
   "source": [
    "r = Room.objects.annotate(total=Sum('rent__cost')).latest('total')\n",
    "print ('id:', r.id, 'number:', r.number, 'total:', r.total)"
   ]
  },
  {
   "cell_type": "markdown",
   "metadata": {},
   "source": [
    "# Q3"
   ]
  },
  {
   "cell_type": "code",
   "execution_count": 16,
   "metadata": {},
   "outputs": [
    {
     "name": "stdout",
     "output_type": "stream",
     "text": [
      "{'rent__count': 35}\n"
     ]
    }
   ],
   "source": [
    "jack = Member.objects.filter(name='Jack Jones').aggregate(Count('rent'))\n",
    "print(jack)"
   ]
  },
  {
   "cell_type": "markdown",
   "metadata": {},
   "source": [
    "# Q4"
   ]
  },
  {
   "cell_type": "code",
   "execution_count": 48,
   "metadata": {},
   "outputs": [
    {
     "name": "stdout",
     "output_type": "stream",
     "text": [
      "room: 9\n",
      "room: 7\n",
      "room: 7\n",
      "room: 8\n",
      "room: 9\n",
      "room: 7\n",
      "room: 9\n",
      "room: 8\n",
      "room: 9\n",
      "room: 8\n",
      "room: 7\n",
      "room: 8\n",
      "room: 6\n",
      "room: 9\n",
      "room: 7\n",
      "room: 9\n",
      "room: 9\n",
      "room: 6\n",
      "room: 7\n",
      "room: 7\n",
      "room: 10\n",
      "room: 7\n",
      "room: 6\n",
      "room: 6\n",
      "room: 9\n",
      "room: 10\n",
      "room: 9\n",
      "room: 7\n",
      "room: 10\n",
      "room: 7\n",
      "room: 9\n",
      "room: 10\n",
      "room: 7\n",
      "room: 7\n",
      "room: 10\n",
      "count: 35\n"
     ]
    }
   ],
   "source": [
    "m = Member.objects.get(name='Claire Taylor')\n",
    "claire = Rent.objects.filter(member=m).values()\n",
    "count = 0;\n",
    "for i in claire:\n",
    "    count+=1\n",
    "    print ('room:', i['room_id'])\n",
    "print('count:', count)"
   ]
  },
  {
   "cell_type": "markdown",
   "metadata": {},
   "source": [
    "# Q5"
   ]
  },
  {
   "cell_type": "code",
   "execution_count": 37,
   "metadata": {},
   "outputs": [
    {
     "name": "stdout",
     "output_type": "stream",
     "text": [
      "cost: 188061.00\n"
     ]
    },
    {
     "name": "stderr",
     "output_type": "stream",
     "text": [
      "D:\\Anaconda3\\lib\\site-packages\\django\\db\\models\\fields\\__init__.py:1451: RuntimeWarning: DateTimeField Rent.stop received a naive datetime (2018-06-01 00:00:00) while time zone support is active.\n",
      "  RuntimeWarning)\n",
      "D:\\Anaconda3\\lib\\site-packages\\django\\db\\models\\fields\\__init__.py:1451: RuntimeWarning: DateTimeField Rent.stop received a naive datetime (2018-06-30 00:00:00) while time zone support is active.\n",
      "  RuntimeWarning)\n"
     ]
    }
   ],
   "source": [
    "start = datetime(2018, 6, 1)\n",
    "end = datetime(2018, 6, 30)\n",
    "r_all = Rent.objects.filter(stop__range=[start, end]).aggregate(Sum('cost'))\n",
    "print('cost:', r_all['cost__sum'])"
   ]
  },
  {
   "cell_type": "markdown",
   "metadata": {},
   "source": [
    "# Q6"
   ]
  },
  {
   "cell_type": "code",
   "execution_count": 46,
   "metadata": {},
   "outputs": [
    {
     "name": "stdout",
     "output_type": "stream",
     "text": [
      "6 29400.00\n",
      "7 28300.00\n",
      "8 46920.00\n",
      "9 35880.00\n",
      "10 47561.00\n"
     ]
    },
    {
     "name": "stderr",
     "output_type": "stream",
     "text": [
      "D:\\Anaconda3\\lib\\site-packages\\django\\db\\models\\fields\\__init__.py:1451: RuntimeWarning: DateTimeField Rent.stop received a naive datetime (2018-06-01 00:00:00) while time zone support is active.\n",
      "  RuntimeWarning)\n",
      "D:\\Anaconda3\\lib\\site-packages\\django\\db\\models\\fields\\__init__.py:1451: RuntimeWarning: DateTimeField Rent.stop received a naive datetime (2018-06-30 00:00:00) while time zone support is active.\n",
      "  RuntimeWarning)\n"
     ]
    }
   ],
   "source": [
    "start = datetime(2018, 6, 1)\n",
    "end = datetime(2018, 6, 30)\n",
    "re = Room.objects.filter(rent__stop__range=[start, end]).annotate(Sum('rent__cost'))\n",
    "for i in re:\n",
    "    print (i.id, i.rent__cost__sum)"
   ]
  },
  {
   "cell_type": "markdown",
   "metadata": {},
   "source": [
    "# Q7"
   ]
  },
  {
   "cell_type": "code",
   "execution_count": 63,
   "metadata": {},
   "outputs": [
    {
     "name": "stdout",
     "output_type": "stream",
     "text": [
      "Oliver Davies\n",
      "James Thomas\n",
      "Oliver Williams\n",
      "William Taylor\n"
     ]
    },
    {
     "name": "stderr",
     "output_type": "stream",
     "text": [
      "D:\\Anaconda3\\lib\\site-packages\\django\\db\\models\\fields\\__init__.py:1451: RuntimeWarning: DateTimeField Rent.stop received a naive datetime (2018-06-01 00:00:00) while time zone support is active.\n",
      "  RuntimeWarning)\n",
      "D:\\Anaconda3\\lib\\site-packages\\django\\db\\models\\fields\\__init__.py:1451: RuntimeWarning: DateTimeField Rent.stop received a naive datetime (2018-06-30 00:00:00) while time zone support is active.\n",
      "  RuntimeWarning)\n"
     ]
    }
   ],
   "source": [
    "duration_cal = ExpressionWrapper(F('rent__stop') - F('rent__start'), output_field=fields.DurationField())\n",
    "m = Member.objects.filter(rent__stop__range=[start, end]).annotate(duration=duration_cal).filter(duration=timedelta(hours=8))\n",
    "for i in m:\n",
    "    print (i.name)"
   ]
  },
  {
   "cell_type": "markdown",
   "metadata": {},
   "source": [
    "# Q8"
   ]
  },
  {
   "cell_type": "code",
   "execution_count": 66,
   "metadata": {},
   "outputs": [
    {
     "name": "stdout",
     "output_type": "stream",
     "text": [
      "Jack Johnson\n",
      "Thomas Davies\n"
     ]
    },
    {
     "name": "stderr",
     "output_type": "stream",
     "text": [
      "D:\\Anaconda3\\lib\\site-packages\\django\\db\\models\\fields\\__init__.py:1451: RuntimeWarning: DateTimeField Rent.stop received a naive datetime (2018-06-01 00:00:00) while time zone support is active.\n",
      "  RuntimeWarning)\n",
      "D:\\Anaconda3\\lib\\site-packages\\django\\db\\models\\fields\\__init__.py:1451: RuntimeWarning: DateTimeField Rent.stop received a naive datetime (2018-06-30 00:00:00) while time zone support is active.\n",
      "  RuntimeWarning)\n"
     ]
    }
   ],
   "source": [
    "m = Member.objects.filter(rent__stop__range=[start, end]).annotate(duration=duration_cal).filter(duration__gt=timedelta(hours=9))\n",
    "for i in m:\n",
    "    print (i.name)"
   ]
  },
  {
   "cell_type": "markdown",
   "metadata": {},
   "source": [
    "# Q9"
   ]
  },
  {
   "cell_type": "code",
   "execution_count": 71,
   "metadata": {},
   "outputs": [
    {
     "name": "stdout",
     "output_type": "stream",
     "text": [
      "101 2 days, 8:00:00\n",
      "101 2 days, 16:00:00\n",
      "101 4 days, 3:00:00\n",
      "101 1 day, 4:00:00\n",
      "101 5:00:00\n",
      "101 6:00:00\n",
      "101 8:00:00\n",
      "101 14:00:00\n",
      "102 2 days, 15:00:00\n",
      "102 2 days, 18:00:00\n",
      "102 2 days, 9:00:00\n",
      "102 1 day, 20:00:00\n",
      "102 15:00:00\n",
      "102 18:00:00\n",
      "102 7:00:00\n",
      "102 13:00:00\n",
      "103 2 days, 19:00:00\n",
      "103 2 days, 10:00:00\n",
      "103 2 days, 0:00:00\n",
      "103 1 day, 8:00:00\n",
      "103 1 day, 6:00:00\n",
      "103 1 day, 0:00:00\n",
      "103 8:00:00\n",
      "103 9:00:00\n",
      "104 2 days, 17:00:00\n",
      "104 3 days, 6:00:00\n",
      "104 1 day, 12:00:00\n",
      "104 16:00:00\n",
      "104 1 day, 16:00:00\n",
      "104 12:00:00\n",
      "104 21:00:00\n",
      "104 8:00:00\n",
      "105 2 days, 23:00:00\n",
      "105 2 days, 0:00:00\n",
      "105 1 day, 21:00:00\n",
      "105 1 day, 0:00:00\n",
      "105 1 day, 6:00:00\n",
      "105 6:00:00\n",
      "105 7:00:00\n",
      "105 8:00:00\n"
     ]
    },
    {
     "name": "stderr",
     "output_type": "stream",
     "text": [
      "D:\\Anaconda3\\lib\\site-packages\\django\\db\\models\\fields\\__init__.py:1451: RuntimeWarning: DateTimeField Rent.stop received a naive datetime (2018-06-01 00:00:00) while time zone support is active.\n",
      "  RuntimeWarning)\n",
      "D:\\Anaconda3\\lib\\site-packages\\django\\db\\models\\fields\\__init__.py:1451: RuntimeWarning: DateTimeField Rent.stop received a naive datetime (2018-06-30 00:00:00) while time zone support is active.\n",
      "  RuntimeWarning)\n"
     ]
    }
   ],
   "source": [
    "r = Room.objects.filter(rent__stop__range=[start, end]).annotate(duration=duration_cal).annotate(sum_duration=Sum('duration'))\n",
    "for i in r:\n",
    "    print (i.number, i.sum_duration)"
   ]
  },
  {
   "cell_type": "markdown",
   "metadata": {},
   "source": [
    "# Q10"
   ]
  },
  {
   "cell_type": "code",
   "execution_count": 72,
   "metadata": {},
   "outputs": [
    {
     "name": "stdout",
     "output_type": "stream",
     "text": [
      "101 29400.00\n",
      "102 28300.00\n",
      "103 46920.00\n",
      "104 35880.00\n",
      "105 47561.00\n"
     ]
    },
    {
     "name": "stderr",
     "output_type": "stream",
     "text": [
      "D:\\Anaconda3\\lib\\site-packages\\django\\db\\models\\fields\\__init__.py:1451: RuntimeWarning: DateTimeField Rent.stop received a naive datetime (2018-06-01 00:00:00) while time zone support is active.\n",
      "  RuntimeWarning)\n",
      "D:\\Anaconda3\\lib\\site-packages\\django\\db\\models\\fields\\__init__.py:1451: RuntimeWarning: DateTimeField Rent.stop received a naive datetime (2018-06-30 00:00:00) while time zone support is active.\n",
      "  RuntimeWarning)\n"
     ]
    }
   ],
   "source": [
    "r = Room.objects.filter(rent__stop__range=[start, end]).annotate(sum_cost=Sum('rent__cost'))\n",
    "for i in r:\n",
    "    print (i.number, i.sum_cost)"
   ]
  },
  {
   "cell_type": "code",
   "execution_count": null,
   "metadata": {
    "collapsed": true
   },
   "outputs": [],
   "source": []
  }
 ],
 "metadata": {
  "kernelspec": {
   "display_name": "Django Shell-Plus",
   "language": "python",
   "name": "django_extensions"
  },
  "language_info": {
   "codemirror_mode": {
    "name": "ipython",
    "version": 3
   },
   "file_extension": ".py",
   "mimetype": "text/x-python",
   "name": "python",
   "nbconvert_exporter": "python",
   "pygments_lexer": "ipython3",
   "version": "3.6.3"
  }
 },
 "nbformat": 4,
 "nbformat_minor": 2
}
