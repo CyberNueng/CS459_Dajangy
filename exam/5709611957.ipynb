{
 "cells": [
  {
   "cell_type": "code",
   "execution_count": 1,
   "metadata": {
    "collapsed": true
   },
   "outputs": [],
   "source": [
    "from django.db.models import F, ExpressionWrapper, fields\n",
    "import math\n",
    "import csv"
   ]
  },
  {
   "cell_type": "code",
   "execution_count": 2,
   "metadata": {},
   "outputs": [],
   "source": [
    "from datetime import datetime, timedelta\n",
    "duration_cal = ExpressionWrapper(F('stop') - F('start'), output_field=fields.DurationField())\n",
    "r = Rent.objects.all().filter(~Q(stop = None)).annotate(duration=duration_cal)\n",
    "\n",
    "for i in r:\n",
    "    if(i.cost == None):\n",
    "        hour = math.floor(i.duration.seconds/3600)\n",
    "        cost_cal = i.room.hour_price*hour\n",
    "        i.cost=cost_cal\n",
    "        i.save()"
   ]
  },
  {
   "cell_type": "code",
   "execution_count": 3,
   "metadata": {},
   "outputs": [],
   "source": [
    "csvfile = \"5709611957.csv\"\n",
    "members = Member.objects.all()\n",
    "with open(csvfile, \"w\") as output:\n",
    "    fieldnames = ['id', 'cost']\n",
    "    writer = csv.DictWriter(output, fieldnames=fieldnames, lineterminator='\\n')\n",
    "    writer.writeheader()\n",
    "    for u in members:\n",
    "        u_price = r.filter(member=u).aggregate(Sum('cost'))\n",
    "        data = {}\n",
    "        data['id'] = u.id\n",
    "        data['cost'] =u_price['cost__sum']\n",
    "        writer.writerow(data)  "
   ]
  },
  {
   "cell_type": "code",
   "execution_count": null,
   "metadata": {
    "collapsed": true
   },
   "outputs": [],
   "source": []
  }
 ],
 "metadata": {
  "kernelspec": {
   "display_name": "Django Shell-Plus",
   "language": "python",
   "name": "django_extensions"
  },
  "language_info": {
   "codemirror_mode": {
    "name": "ipython",
    "version": 3
   },
   "file_extension": ".py",
   "mimetype": "text/x-python",
   "name": "python",
   "nbconvert_exporter": "python",
   "pygments_lexer": "ipython3",
   "version": "3.6.3"
  }
 },
 "nbformat": 4,
 "nbformat_minor": 2
}
