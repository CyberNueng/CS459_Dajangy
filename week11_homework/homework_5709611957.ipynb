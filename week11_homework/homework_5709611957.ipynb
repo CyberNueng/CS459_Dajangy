{
 "cells": [
  {
   "cell_type": "markdown",
   "metadata": {},
   "source": [
    "# Q1\n",
    "* Who did spend most money for renting?"
   ]
  },
  {
   "cell_type": "code",
   "execution_count": 1,
   "metadata": {},
   "outputs": [
    {
     "name": "stdout",
     "output_type": "stream",
     "text": [
      "ID=2: Ronald Cunningham 1799.95\n"
     ]
    }
   ],
   "source": [
    "import operator\n",
    "mostpay = Customer.objects.all().annotate(total=Sum('rent__cost')).latest('total')\n",
    "print ('ID=' + str(mostpay.id) + ': '+ mostpay.first_name + ' ' + mostpay.last_name + ' ' + str(mostpay.total))"
   ]
  },
  {
   "cell_type": "markdown",
   "metadata": {},
   "source": [
    "# Q2\n",
    "* Which car does make the most amount of income?"
   ]
  },
  {
   "cell_type": "code",
   "execution_count": 2,
   "metadata": {},
   "outputs": [
    {
     "name": "stdout",
     "output_type": "stream",
     "text": [
      "ID=3: Tuscan 2240.00\n"
     ]
    }
   ],
   "source": [
    "mostincome = Car.objects.annotate(total=Sum('rent__cost')).latest('total')\n",
    "print ('ID=' + str(mostincome.id) + ': ' + mostincome.model, str(mostincome.total))"
   ]
  },
  {
   "cell_type": "markdown",
   "metadata": {},
   "source": [
    "# Q3 \n",
    "* How many time Erick Gilbert (id=6) rent the cars? (need to query from the name)"
   ]
  },
  {
   "cell_type": "code",
   "execution_count": 3,
   "metadata": {},
   "outputs": [
    {
     "name": "stdout",
     "output_type": "stream",
     "text": [
      "3\n"
     ]
    }
   ],
   "source": [
    "countrent = Customer.objects.annotate(Count('rent')).get(first_name='Erick', last_name='Gilbert', id=6)#Erick Gilbert has multiple object\n",
    "print (countrent.rent__count)"
   ]
  },
  {
   "cell_type": "markdown",
   "metadata": {},
   "source": [
    "# Q4\n",
    "* Q4 What are the cars rented by Ronald Cunningham? (need to query from the name"
   ]
  },
  {
   "cell_type": "code",
   "execution_count": 4,
   "metadata": {},
   "outputs": [
    {
     "name": "stdout",
     "output_type": "stream",
     "text": [
      "ID=2: Cooper\n",
      "ID=5: Celica\n",
      "ID=6: TT\n",
      "ID=1: L200\n"
     ]
    }
   ],
   "source": [
    "rentcars = Customer.objects.get(first_name='Ronald', last_name='Cunningham').rent_set.all()\n",
    "for rentcar in rentcars.iterator():\n",
    "    print ('ID=' + str(rentcar.car.id) + ': ' + rentcar.car.model)"
   ]
  },
  {
   "cell_type": "markdown",
   "metadata": {},
   "source": [
    "# Q5\n",
    "* Between 17/03/2014(inclusive) and 29/03/2014(inclusive), what is the total income of ALL cars in the range of time? (use return date)"
   ]
  },
  {
   "cell_type": "code",
   "execution_count": 5,
   "metadata": {
    "collapsed": true
   },
   "outputs": [],
   "source": [
    "from datetime import datetime\n",
    "import pytz\n",
    "utc=pytz.timezone('UTC')\n",
    "start_date = utc.localize( datetime.strptime('2014-03-13','%Y-%m-%d') )\n",
    "stop_date = utc.localize( datetime.strptime('2014-03-24','%Y-%m-%d') )"
   ]
  },
  {
   "cell_type": "code",
   "execution_count": 6,
   "metadata": {},
   "outputs": [
    {
     "name": "stdout",
     "output_type": "stream",
     "text": [
      "3309.50\n"
     ]
    }
   ],
   "source": [
    "sumrentintime = Rent.objects.filter(rent_date__range=[start_date, stop_date]).aggregate(Sum('cost'))\n",
    "print (sumrentintime['cost__sum'])"
   ]
  },
  {
   "cell_type": "markdown",
   "metadata": {},
   "source": [
    "# Q6\n",
    "* Between 17/03/2014(inclusive) and 29/03/2014(inclusive), (use return date) what are the total incomes of EACH car in the range of time?"
   ]
  },
  {
   "cell_type": "code",
   "execution_count": 7,
   "metadata": {},
   "outputs": [
    {
     "name": "stdout",
     "output_type": "stream",
     "text": [
      "carID=3 1310.00\n",
      "carID=2 425.00\n",
      "carID=4 189.95\n",
      "carID=5 50.00\n",
      "carID=6 269.95\n",
      "carID=7 514.85\n",
      "carID=1 549.75\n"
     ]
    }
   ],
   "source": [
    "#use date from Q5\n",
    "sumrentintimebycar = Rent.objects.filter(rent_date__range=[start_date, stop_date]).annotate(Sum('cost'))\n",
    "for sumrent in sumrentintimebycar.iterator():\n",
    "    print ('carID='+str(sumrent.car.id), sumrent.cost__sum)"
   ]
  },
  {
   "cell_type": "markdown",
   "metadata": {},
   "source": [
    "# Q7\n",
    "* Find all rental serveices that has duration less than than 3 days?"
   ]
  },
  {
   "cell_type": "code",
   "execution_count": 8,
   "metadata": {},
   "outputs": [
    {
     "name": "stdout",
     "output_type": "stream",
     "text": [
      "rent_id=4 3 days, 0:00:00\n",
      "rent_id=5 1 day, 0:00:00\n",
      "rent_id=6 0:00:00\n",
      "rent_id=7 1 day, 0:00:00\n",
      "rent_id=8 3 days, 0:00:00\n",
      "rent_id=10 0:00:00\n",
      "rent_id=11 0:00:00\n",
      "rent_id=12 0:00:00\n",
      "rent_id=13 -1 day, 0:00:00\n",
      "rent_id=14 -1 day, 0:00:00\n",
      "rent_id=15 -1 day, 0:00:00\n",
      "rent_id=16 -1 day, 0:00:00\n",
      "rent_id=17 -1 day, 0:00:00\n"
     ]
    }
   ],
   "source": [
    "from django.db.models import F, ExpressionWrapper, fields\n",
    "from datetime import timedelta\n",
    "duration_cal = ExpressionWrapper(F('return_date') - F('rent_date'), output_field=fields.DurationField())\n",
    "rents3day = Rent.objects.all().annotate(duration=duration_cal).filter(duration__lte=timedelta(days=3))\n",
    "for rent3day in rents3day:\n",
    "    print ('rent_id='+str(rent3day.id), rent3day.duration)"
   ]
  },
  {
   "cell_type": "markdown",
   "metadata": {},
   "source": [
    "# Q8\n",
    "* Find all rental serveices that has duration greater than or equal than 2 day?"
   ]
  },
  {
   "cell_type": "code",
   "execution_count": 9,
   "metadata": {},
   "outputs": [
    {
     "name": "stdout",
     "output_type": "stream",
     "text": [
      "rentID=1 5 days, 0:00:00\n",
      "rentID=2 8 days, 0:00:00\n",
      "rentID=3 7 days, 0:00:00\n",
      "rentID=4 3 days, 0:00:00\n",
      "rentID=8 3 days, 0:00:00\n",
      "rentID=9 5 days, 0:00:00\n"
     ]
    }
   ],
   "source": [
    "#duration_cal from Q7\n",
    "more2day = Rent.objects.all().annotate(duration=duration_cal).filter(duration__gte=timedelta(days=2))\n",
    "for i in more2day:\n",
    "    print ('rentID='+str(i.id), i.duration)"
   ]
  },
  {
   "cell_type": "markdown",
   "metadata": {},
   "source": [
    "# Q9\n",
    "* Find the total rent duration of EACH car?"
   ]
  },
  {
   "cell_type": "code",
   "execution_count": 10,
   "metadata": {},
   "outputs": [
    {
     "name": "stdout",
     "output_type": "stream",
     "text": [
      "carID=1 9 days, 0:00:00\n",
      "carID=2 11 days, 0:00:00\n",
      "carID=3 6 days, 0:00:00\n",
      "carID=4 0:00:00\n",
      "carID=5 -1 day, 0:00:00\n",
      "carID=6 0:00:00\n",
      "carID=7 3 days, 0:00:00\n"
     ]
    }
   ],
   "source": [
    "duration_cal = ExpressionWrapper(F('rent__return_date') - F('rent__rent_date'), output_field=fields.DurationField())\n",
    "totalrentpercars = Car.objects.all().annotate(duration_cap=Sum(duration_cal))\n",
    "for totalrentpercar in totalrentpercars:\n",
    "    print ('carID='+str(totalrentpercar.id),totalrentpercar.duration_cap)"
   ]
  },
  {
   "cell_type": "markdown",
   "metadata": {},
   "source": [
    "# Q10\n",
    "* Find the ratio [total_income_of_car]/[car_price] of EACH car?"
   ]
  },
  {
   "cell_type": "code",
   "execution_count": 11,
   "metadata": {},
   "outputs": [
    {
     "name": "stdout",
     "output_type": "stream",
     "text": [
      "carID=1 0.15\n",
      "carID=2 0.00\n",
      "carID=3 0.00\n",
      "carID=4 0.08\n",
      "carID=5 0.00\n",
      "carID=6 0.03\n",
      "carID=7 0.03\n"
     ]
    }
   ],
   "source": [
    "incomeratios = Car.objects.all().annotate(income=Sum('rent__cost')/F('price'))\n",
    "for incomeratio in incomeratios:\n",
    "    print ('carID=' + str(incomeratio.id), incomeratio.income)"
   ]
  },
  {
   "cell_type": "code",
   "execution_count": null,
   "metadata": {
    "collapsed": true
   },
   "outputs": [],
   "source": []
  }
 ],
 "metadata": {
  "kernelspec": {
   "display_name": "Django Shell-Plus",
   "language": "python",
   "name": "django_extensions"
  },
  "language_info": {
   "codemirror_mode": {
    "name": "ipython",
    "version": 3
   },
   "file_extension": ".py",
   "mimetype": "text/x-python",
   "name": "python",
   "nbconvert_exporter": "python",
   "pygments_lexer": "ipython3",
   "version": "3.6.3"
  }
 },
 "nbformat": 4,
 "nbformat_minor": 2
}
